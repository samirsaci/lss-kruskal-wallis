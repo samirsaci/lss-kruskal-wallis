{
 "cells": [
  {
   "cell_type": "code",
   "execution_count": null,
   "metadata": {},
   "outputs": [],
   "source": [
    "import pandas as pd\n",
    "import numpy as np\n",
    "import matplotlib.pyplot as plt\n",
    "import seaborn as sns\n",
    "import scipy.stats as sc\n",
    "import pingouin as pg\n",
    "from bioinfokit.analys import stat\n",
    "import statsmodels.graphics.gofplots as sm\n",
    "from scipy import stats"
   ]
  },
  {
   "cell_type": "markdown",
   "metadata": {},
   "source": [
    "## Python for Lean Six Sigma - Kruska-Wallis Test\n",
    "#### Import Data"
   ]
  },
  {
   "cell_type": "code",
   "execution_count": null,
   "metadata": {},
   "outputs": [],
   "source": [
    "# Import Data\n",
    "df_sewing = pd.read_excel('df_sewing.xlsx')\n",
    "\n",
    "# Split in two lists for analysis\n",
    "train_no, train_yes = df_sewing[df_sewing['Training']=='No'].Training.values, df_sewing[df_sewing['Training']=='Yes'].Training.values\n",
    "\n",
    "# replace column names\n",
    "print(\"{:,} records\".format(len(df_sewing)))\n",
    "df_sewing.head()"
   ]
  },
  {
   "cell_type": "markdown",
   "metadata": {},
   "source": [
    "#### Plot distribution using BoxPlot"
   ]
  },
  {
   "cell_type": "code",
   "execution_count": null,
   "metadata": {},
   "outputs": [],
   "source": [
    "# Visualize distribution by Training Value using BoxPlot\n",
    "import matplotlib.pyplot as plt\n",
    "import seaborn as sns\n",
    "plt.figure(figsize=(8, 6))\n",
    "ax = sns.boxplot(x='Training', y='Time', data=df_sewing, color='#99c2a2')\n",
    "ax = sns.swarmplot(x=\"Training\", y=\"Time\", data=df_sewing, color='#7d0013')\n",
    "plt.ylabel('Time per batch of 30 labels (sec)')\n",
    "plt.show()"
   ]
  },
  {
   "cell_type": "code",
   "execution_count": null,
   "metadata": {
    "collapsed": true
   },
   "outputs": [],
   "source": [
    "# df_analysis\n",
    "df_analysis = df_sewing[df_sewing['Training']=='Yes'].describe()\n",
    "df_analysis.columns = ['Yes']\n",
    "df_analysis['No'] = df_sewing[df_sewing['Training']=='No'].describe()\n",
    "df_analysis.to_csv('df_test.csv')"
   ]
  },
  {
   "cell_type": "markdown",
   "metadata": {},
   "source": [
    "#### Calculate p-value using Welch's test"
   ]
  },
  {
   "cell_type": "code",
   "execution_count": null,
   "metadata": {},
   "outputs": [],
   "source": [
    "#perform Welch's ANOVA\n",
    "pg.welch_anova(dv='Time', between='Training', data=df_sewing).T"
   ]
  },
  {
   "cell_type": "markdown",
   "metadata": {},
   "source": [
    "#### Perform ANOVA"
   ]
  },
  {
   "cell_type": "code",
   "execution_count": null,
   "metadata": {},
   "outputs": [],
   "source": [
    "res = stat()\n",
    "res.anova_stat(df=df_sewing, res_var='Training', anova_model='Time ~ C(Training)')\n",
    "res.anova_summary"
   ]
  },
  {
   "cell_type": "markdown",
   "metadata": {},
   "source": [
    "#### Residual Plot"
   ]
  },
  {
   "cell_type": "code",
   "execution_count": null,
   "metadata": {},
   "outputs": [],
   "source": [
    "# QQ-plot\n",
    "\n",
    "# ANOVA model\n",
    "res = stat()\n",
    "res.anova_stat(df=df_sewing, res_var='Training', anova_model='Time ~ C(Training)')\n",
    "\n",
    "# Residual Plot\n",
    "sm.qqplot(res.anova_std_residuals, line='45')\n",
    "plt.xlabel(\"Theoretical Quantiles\")\n",
    "plt.ylabel(\"Standardized Residuals\")\n",
    "plt.show()\n",
    "# histogram\n",
    "plt.hist(res.anova_model_out.resid, bins='auto', histtype='bar', ec='k') \n",
    "plt.xlabel(\"Residuals\")\n",
    "plt.ylabel('Frequency')\n",
    "plt.show()\n",
    "# histogram\n",
    "plt.plot(res.anova_model_out.resid, '-o')\n",
    "plt.xlabel(\"Residuals\")\n",
    "plt.ylabel('Frequency')\n",
    "plt.show()"
   ]
  },
  {
   "cell_type": "markdown",
   "metadata": {},
   "source": [
    "#### Kruskal-Wallis test"
   ]
  },
  {
   "cell_type": "code",
   "execution_count": null,
   "metadata": {},
   "outputs": [],
   "source": [
    "# Perform Kruskal-Wallis Test \n",
    "stats.kruskal(train_no, train_yes)"
   ]
  }
 ],
 "metadata": {
  "kernelspec": {
   "display_name": "Python 3",
   "language": "python",
   "name": "python3"
  },
  "language_info": {
   "codemirror_mode": {
    "name": "ipython",
    "version": 3
   },
   "file_extension": ".py",
   "mimetype": "text/x-python",
   "name": "python",
   "nbconvert_exporter": "python",
   "pygments_lexer": "ipython3",
   "version": "3.6.1"
  }
 },
 "nbformat": 4,
 "nbformat_minor": 2
}
